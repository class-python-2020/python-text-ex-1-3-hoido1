{
 "metadata": {
  "language_info": {
   "codemirror_mode": {
    "name": "ipython",
    "version": 3
   },
   "file_extension": ".py",
   "mimetype": "text/x-python",
   "name": "python",
   "nbconvert_exporter": "python",
   "pygments_lexer": "ipython3",
   "version": 3
  },
  "orig_nbformat": 2,
  "kernelspec": {
   "name": "python_defaultSpec_1597376267289",
   "display_name": "Python 3.8.2 32-bit"
  }
 },
 "nbformat": 4,
 "nbformat_minor": 2,
 "cells": [
  {
   "cell_type": "code",
   "execution_count": 1,
   "metadata": {},
   "outputs": [
    {
     "output_type": "execute_result",
     "data": {
      "text/plain": "[4, 9, 25, 49, 121, 169]"
     },
     "metadata": {},
     "execution_count": 1
    }
   ],
   "source": [
    "prime = [2, 3, 5, 7, 11, 13]\n",
    "prime_square = [x**2 for x in prime]\n",
    "prime_square"
   ]
  },
  {
   "cell_type": "code",
   "execution_count": 2,
   "metadata": {},
   "outputs": [
    {
     "output_type": "execute_result",
     "data": {
      "text/plain": "[1, 2, 3, 4, 5, 6, 7, 8, 9, 2, 4, 6, 8, 10, 12, 14, 16, 18]"
     },
     "metadata": {},
     "execution_count": 2
    }
   ],
   "source": [
    "multiplication = [i * j for i in range(1, 3) for j in range(1, 10)]\n",
    "multiplication"
   ]
  },
  {
   "cell_type": "code",
   "execution_count": 9,
   "metadata": {},
   "outputs": [],
   "source": [
    "mat = [\n",
    "    [1, 2, 3, 4],\n",
    "    [5, 6, 7, 8]\n",
    "]"
   ]
  },
  {
   "cell_type": "code",
   "execution_count": 10,
   "metadata": {},
   "outputs": [
    {
     "output_type": "error",
     "ename": "SyntaxError",
     "evalue": "invalid syntax (<ipython-input-10-be21cd9b6706>, line 3)",
     "traceback": [
      "\u001b[1;36m  File \u001b[1;32m\"<ipython-input-10-be21cd9b6706>\"\u001b[1;36m, line \u001b[1;32m3\u001b[0m\n\u001b[1;33m    mat[[i * J + j + 1 for j in range(J)] for i in range(I)]\u001b[0m\n\u001b[1;37m                                          ^\u001b[0m\n\u001b[1;31mSyntaxError\u001b[0m\u001b[1;31m:\u001b[0m invalid syntax\n"
     ]
    }
   ],
   "source": [
    "I = 2\n",
    "J = 4\n",
    "mat[[i * J + j + 1 for j in range(J)] for i in range(I)]\n",
    "mat"
   ]
  },
  {
   "cell_type": "code",
   "execution_count": 8,
   "metadata": {},
   "outputs": [
    {
     "output_type": "execute_result",
     "data": {
      "text/plain": "[4, 9, 25, 49, 121, 169]"
     },
     "metadata": {},
     "execution_count": 8
    }
   ],
   "source": [
    "prime = [2, 3, 5, 7, 11, 13]\n",
    "print_square = [x**2 for x in prime if x**2 > 100]\n",
    "prime_square"
   ]
  },
  {
   "cell_type": "code",
   "execution_count": 11,
   "metadata": {},
   "outputs": [
    {
     "output_type": "execute_result",
     "data": {
      "text/plain": "[1, 2, 3]"
     },
     "metadata": {},
     "execution_count": 11
    }
   ],
   "source": [
    "name_list = [('yamada',20), ('satou',35), ('tanaka',50), ('suzuki',40)]\n",
    "[i for i in range(len(name_list)) if name_list[i][1] >= 30]"
   ]
  },
  {
   "cell_type": "code",
   "execution_count": 12,
   "metadata": {
    "tags": []
   },
   "outputs": [
    {
     "output_type": "stream",
     "name": "stdout",
     "text": "[3, 8]\n"
    }
   ],
   "source": [
    "num = [[1, 2, 3, 4, 5], [6, 7, 8, 9, 10]]\n",
    "col = [row[2] for row in num]\n",
    "print(col)"
   ]
  },
  {
   "cell_type": "code",
   "execution_count": 13,
   "metadata": {},
   "outputs": [
    {
     "output_type": "execute_result",
     "data": {
      "text/plain": "[None, 2, None, 4, None, 6, None, 8, None]"
     },
     "metadata": {},
     "execution_count": 13
    }
   ],
   "source": [
    "list1 = [1, 2, 3, 4, 5, 6, 7, 8, 9]\n",
    "[x if x%2==0 else None for x in list1]"
   ]
  },
  {
   "cell_type": "code",
   "execution_count": 14,
   "metadata": {},
   "outputs": [
    {
     "output_type": "execute_result",
     "data": {
      "text/plain": "[0, 0, 1, 0, 2, 4]"
     },
     "metadata": {},
     "execution_count": 14
    }
   ],
   "source": [
    "[x * y for x in range(3) for y in range(x + 1)]\n"
   ]
  },
  {
   "cell_type": "code",
   "execution_count": 18,
   "metadata": {
    "tags": []
   },
   "outputs": [
    {
     "output_type": "stream",
     "name": "stdout",
     "text": "x\ty\tx+y\n0\t0\t0\n1\t0\t1\n1\t1\t2\n2\t0\t2\n2\t1\t3\n2\t2\t4\n"
    }
   ],
   "source": [
    "print('x', 'y', 'x+y', sep='\\t')\n",
    "for x in range(3):\n",
    "    for y in range(x + 1):\n",
    "        print(x, y, x + y, sep='\\t')\n"
   ]
  },
  {
   "cell_type": "code",
   "execution_count": 19,
   "metadata": {},
   "outputs": [
    {
     "output_type": "execute_result",
     "data": {
      "text/plain": "[None, None, None, None, 121, 169]"
     },
     "metadata": {},
     "execution_count": 19
    }
   ],
   "source": [
    "prime = [2, 3, 5, 7, 11, 13]\n",
    "prime_square = [x**2 if x**2 > 100 else None for x in prime]\n",
    "prime_square"
   ]
  },
  {
   "cell_type": "code",
   "execution_count": 21,
   "metadata": {},
   "outputs": [
    {
     "output_type": "execute_result",
     "data": {
      "text/plain": "['other', 'x is 1', 'x is 2']"
     },
     "metadata": {},
     "execution_count": 21
    }
   ],
   "source": [
    "['x is 2' if x == 2 else 'x is 1' if x == 1 else 'other' for x in range(3)]\n"
   ]
  },
  {
   "cell_type": "code",
   "execution_count": 25,
   "metadata": {
    "tags": []
   },
   "outputs": [
    {
     "output_type": "stream",
     "name": "stdout",
     "text": "950 µs ± 30.3 µs per loop (mean ± std. dev. of 7 runs, 1000 loops each)\n"
    }
   ],
   "source": [
    "%%timeit\n",
    "def comprehension_list(x):\n",
    "    return [i*i for i in range(x)]\n",
    "\n",
    "comprehension_list(10000)"
   ]
  },
  {
   "cell_type": "code",
   "execution_count": null,
   "metadata": {},
   "outputs": [],
   "source": []
  }
 ]
}