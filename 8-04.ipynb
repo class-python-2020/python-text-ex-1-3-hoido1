{
 "metadata": {
  "language_info": {
   "codemirror_mode": {
    "name": "ipython",
    "version": 3
   },
   "file_extension": ".py",
   "mimetype": "text/x-python",
   "name": "python",
   "nbconvert_exporter": "python",
   "pygments_lexer": "ipython3",
   "version": 3
  },
  "orig_nbformat": 2,
  "kernelspec": {
   "name": "python_defaultSpec_1597993382477",
   "display_name": "Python 3.8.2 32-bit"
  }
 },
 "nbformat": 4,
 "nbformat_minor": 2,
 "cells": [
  {
   "cell_type": "code",
   "execution_count": 1,
   "metadata": {},
   "outputs": [],
   "source": [
    "super_express = ['nozomi3', 'nozomi64', 'nozomi150', 'hikari1440', 'hikari538', 'kodama730']"
   ]
  },
  {
   "cell_type": "code",
   "execution_count": 3,
   "metadata": {},
   "outputs": [
    {
     "output_type": "execute_result",
     "data": {
      "text/plain": "[('nozomi', 3),\n ('nozomi', 64),\n ('nozomi', 150),\n ('hikari', 1440),\n ('hikari', 538),\n ('kodama', 730)]"
     },
     "metadata": {},
     "execution_count": 3
    }
   ],
   "source": [
    "def splitter(value, sp):\n",
    "    res = value.split(sp)\n",
    "    if len(res) == 2:\n",
    "        return (sp, int(res[1]))\n",
    "    return None\n",
    "\n",
    "result = []\n",
    "for v in super_express:\n",
    "    for s in ['nozomi', 'hikari', 'kodama']:\n",
    "        temp = splitter(v, s)\n",
    "        if temp is not None:\n",
    "            result.append(temp)\n",
    "\n",
    "result"
   ]
  },
  {
   "cell_type": "code",
   "execution_count": 5,
   "metadata": {},
   "outputs": [
    {
     "output_type": "execute_result",
     "data": {
      "text/plain": "[('nozomi', 3),\n ('nozomi', 64),\n ('nozomi', 150),\n ('hikari', 1440),\n ('hikari', 538),\n ('kodama', 730)]"
     },
     "metadata": {},
     "execution_count": 5
    }
   ],
   "source": [
    "import re\n",
    "\n",
    "result = []\n",
    "for v in super_express:\n",
    "    g = re.search(r'([a-zA-z]+)(\\d+)', v)\n",
    "    result.append((g.group(1), int(g.group(2))))\n",
    "    # 3.6以降ではg｢1｣やg[2]と書けます\n",
    "\n",
    "result"
   ]
  },
  {
   "cell_type": "code",
   "execution_count": 6,
   "metadata": {
    "tags": []
   },
   "outputs": [
    {
     "output_type": "stream",
     "name": "stdout",
     "text": "nozomi/3\nnozomi/64\nnozomi/150\nhikari/1440\nhikari/538\nkodama/730\n"
    }
   ],
   "source": [
    "for v in super_express:\n",
    "    g = re.search(r'([a-z]+)(\\d+)', v)\n",
    "    print(g.group(1), g.group(2), sep='/')"
   ]
  },
  {
   "cell_type": "code",
   "execution_count": 7,
   "metadata": {
    "tags": []
   },
   "outputs": [
    {
     "output_type": "stream",
     "name": "stdout",
     "text": "nozomi/3\nnozomi6/4\nnozomi15/0\nhikari144/0\nhikari53/8\nkodama73/0\n"
    }
   ],
   "source": [
    "for v in super_express:\n",
    "    g = re.search(r'(\\w+)(\\d+)', v)\n",
    "    print(g.group(1), g.group(2), sep='/')"
   ]
  },
  {
   "cell_type": "code",
   "execution_count": 8,
   "metadata": {
    "tags": []
   },
   "outputs": [
    {
     "output_type": "stream",
     "name": "stdout",
     "text": "nozomi/3\nnozomi/64\nnozomi/150\nhikari/1440\nhikari/538\nkodama/730\n"
    }
   ],
   "source": [
    "for v in super_express:\n",
    "    g = re.search(r'(\\D+)(\\d+)', v)\n",
    "    print(g.group(1), g.group(2), sep='/')"
   ]
  },
  {
   "cell_type": "code",
   "execution_count": 11,
   "metadata": {
    "tags": []
   },
   "outputs": [
    {
     "output_type": "stream",
     "name": "stdout",
     "text": "nozomi/3\nnozomi/64\nnozomi/150\nhikari/1440\nhikari/538\nkodama/730\n"
    }
   ],
   "source": [
    "for v in super_express:\n",
    "    g = re.search(r'([^0-9]+)(\\d+)', v)\n",
    "    print(g.group(1), g.group(2), sep='/')"
   ]
  },
  {
   "cell_type": "code",
   "execution_count": 12,
   "metadata": {
    "tags": []
   },
   "outputs": [
    {
     "output_type": "stream",
     "name": "stdout",
     "text": "のぞみ/3\nのぞみ/64\nのぞみ/150\nひかり/1440\nひかり/538\nこだま/730\n"
    }
   ],
   "source": [
    "super_express_jp = ['のぞみ3', 'のぞみ64', 'のぞみ150', 'ひかり1440', 'ひかり538', 'こだま730']\n",
    "\n",
    "for v in super_express_jp:\n",
    "    g = re.search(r'([^0-9]+)(\\d+)', v)\n",
    "    print(g.group(1), g.group(2), sep='/')"
   ]
  },
  {
   "cell_type": "code",
   "execution_count": 13,
   "metadata": {
    "tags": []
   },
   "outputs": [
    {
     "output_type": "stream",
     "name": "stdout",
     "text": "のぞみ\nのぞみ\nのぞみ\nひかり\nひかり\nこだま\n"
    }
   ],
   "source": [
    "super_express_jp = ['のぞみ3', 'のぞみ64', 'のぞみ150', 'ひかり1440', 'ひかり538', 'こだま730']\n",
    "\n",
    "for v in super_express_jp:\n",
    "    g = re.search(r'[^0-9]+', v)\n",
    "    print(g.group(0))"
   ]
  },
  {
   "cell_type": "code",
   "execution_count": 15,
   "metadata": {},
   "outputs": [
    {
     "output_type": "execute_result",
     "data": {
      "text/plain": "['RX-7', 'Boing787', 'N700']"
     },
     "metadata": {},
     "execution_count": 15
    }
   ],
   "source": [
    "import re\n",
    "\n",
    "data = 'かなり昔のRX-7で東京駅まで送ってもらい、成田空港からBoing787で高松空港まで行き、帰りはN700系で岡山から戻りました'\n",
    "re.findall(r'[a-zA-Z-]+\\d+', data)"
   ]
  },
  {
   "cell_type": "code",
   "execution_count": 16,
   "metadata": {},
   "outputs": [
    {
     "output_type": "execute_result",
     "data": {
      "text/plain": "['かなり昔のRX-7', 'で東京駅まで送ってもらい、成田空港からBoing787', 'で高松空港まで行き、帰りはN700']"
     },
     "metadata": {},
     "execution_count": 16
    }
   ],
   "source": [
    "re.findall(r'\\D+\\d+', data)"
   ]
  },
  {
   "cell_type": "code",
   "execution_count": null,
   "metadata": {},
   "outputs": [],
   "source": []
  }
 ]
}