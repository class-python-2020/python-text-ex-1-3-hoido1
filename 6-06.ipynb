{
 "metadata": {
  "language_info": {
   "codemirror_mode": {
    "name": "ipython",
    "version": 3
   },
   "file_extension": ".py",
   "mimetype": "text/x-python",
   "name": "python",
   "nbconvert_exporter": "python",
   "pygments_lexer": "ipython3",
   "version": "3.8.2-final"
  },
  "orig_nbformat": 2,
  "kernelspec": {
   "name": "python_defaultSpec_1598159105930",
   "display_name": "Python 3.8.2 32-bit"
  }
 },
 "nbformat": 4,
 "nbformat_minor": 2,
 "cells": [
  {
   "cell_type": "code",
   "execution_count": 1,
   "metadata": {},
   "outputs": [
    {
     "output_type": "execute_result",
     "data": {
      "text/plain": "3.141592653589793"
     },
     "metadata": {},
     "execution_count": 1
    }
   ],
   "source": [
    "import math\n",
    "math.pi"
   ]
  },
  {
   "cell_type": "code",
   "execution_count": null,
   "metadata": {},
   "outputs": [],
   "source": [
    "import my_module\n",
    "my_module_attri = dir(my_module)\n",
    "print(my_module_attri)"
   ]
  },
  {
   "cell_type": "code",
   "execution_count": 3,
   "metadata": {
    "tags": []
   },
   "outputs": [
    {
     "output_type": "stream",
     "name": "stdout",
     "text": "In the global : initial initial initial 53\nAfter local : test test 52 53\nAfter nonlocal : test test nonlocal 53\nAfter global : test test 52 53\nAfter func call: initial initial 52 53\n"
    }
   ],
   "source": [
    "#グローバルスコープ\n",
    "def scope_test():\n",
    "    # ネステッドスコープ(scope_testのローカルスコープ)\n",
    "    def do_local():\n",
    "        # ローカルスコープ\n",
    "        s1 = \"local\"\n",
    "    def do_nonlocal():\n",
    "        # ローカルからネステッドへスコープを移す\n",
    "        nonlocal s2\n",
    "        # ネステッドスコープ\n",
    "        s2 = \"nonlocal\"\n",
    "    def do_global():\n",
    "        # ローカルからグローバルヘスコープを移す\n",
    "        global s3\n",
    "        # グローバルスコープ\n",
    "        s3 = \"global\"\n",
    "    # ネステッドスコープ (scope_testのローカルスコープ)\n",
    "    so = s1 = s2 = s3 = \"test\"\n",
    "    do_local()\n",
    "    print(\"After local :\", so, s1, 52, 53)\n",
    "    do_nonlocal()\n",
    "    print(\"After nonlocal :\", so, s1, s2, 53)\n",
    "    do_global()\n",
    "    print(\"After global :\", so, s1, 52, 53)\n",
    "\n",
    "\n",
    "#グローバルスコープ\n",
    "so = s1 = s2 = s3 = \"initial\"\n",
    "print(\"In the global :\", so, s1, s2, 53)\n",
    "scope_test()\n",
    "print(\"After func call:\", so, s1, 52, 53)\n"
   ]
  },
  {
   "cell_type": "code",
   "execution_count": 6,
   "metadata": {
    "tags": []
   },
   "outputs": [
    {
     "output_type": "stream",
     "name": "stdout",
     "text": "In event1: Happy  -> After event1: Happy \nIn event2: Sad     -> After event2: Happy \nIn event3: Tired  -> After event3: Tired \nIn event4: Excite -> After event4: Tired \nIn event5: Scare -> After event5: Tired \n"
    }
   ],
   "source": [
    "x = 'Happy '\n",
    "def event1():\n",
    "    print(\"In event1:\", x, end=\" -> \")\n",
    "\n",
    "def event2():\n",
    "    x = 'Sad    '\n",
    "    print(\"In event2:\", x, end=\" -> \")\n",
    "\n",
    "def event3():\n",
    "    global x\n",
    "    x = 'Tired '\n",
    "    print(\"In event3:\", x, end=\" -> \")\n",
    "\n",
    "def event4():\n",
    "    x = 'Excite'\n",
    "    def happening():\n",
    "        print(\"In event4:\", x, end=\" -> \")\n",
    "    happening()\n",
    "\n",
    "def event5():\n",
    "    x = 'Fun    '\n",
    "    def happening():\n",
    "        nonlocal x\n",
    "        x = 'Scare'\n",
    "    happening()\n",
    "    print(\"In event5:\", x, end=\" -> \")\n",
    "\n",
    "func_list = [event1, event2, event3, event4, event5]\n",
    "for f in func_list:\n",
    "    f()\n",
    "    print(\"After {}: {}\".format(f.__name__, x))"
   ]
  },
  {
   "cell_type": "code",
   "execution_count": null,
   "metadata": {},
   "outputs": [],
   "source": []
  }
 ]
}