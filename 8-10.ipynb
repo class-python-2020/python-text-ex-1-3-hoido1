{
 "metadata": {
  "language_info": {
   "codemirror_mode": {
    "name": "ipython",
    "version": 3
   },
   "file_extension": ".py",
   "mimetype": "text/x-python",
   "name": "python",
   "nbconvert_exporter": "python",
   "pygments_lexer": "ipython3",
   "version": 3
  },
  "orig_nbformat": 2,
  "kernelspec": {
   "name": "python_defaultSpec_1598009446890",
   "display_name": "Python 3.8.2 32-bit"
  }
 },
 "nbformat": 4,
 "nbformat_minor": 2,
 "cells": [
  {
   "cell_type": "code",
   "execution_count": 1,
   "metadata": {
    "tags": []
   },
   "outputs": [
    {
     "output_type": "stream",
     "name": "stderr",
     "text": "WARNING:root:warning level massage\nERROR:root:error level message\nCRITICAL:root:critical level message\n"
    }
   ],
   "source": [
    "import logging\n",
    "logging.debug('debug level message')\n",
    "logging.info('info level massage')\n",
    "logging.warning('warning level massage')\n",
    "logging.error('error level message')\n",
    "logging.critical('critical level message')"
   ]
  },
  {
   "cell_type": "code",
   "execution_count": 3,
   "metadata": {
    "tags": []
   },
   "outputs": [
    {
     "output_type": "stream",
     "name": "stderr",
     "text": "WARNING:root:test warning output\n"
    }
   ],
   "source": [
    "import logging\n",
    "logging.basicConfig(filename='test1.log', level=logging.DEBUG)\n",
    "logging.debug('logfile open')\n",
    "logging.info('test info output')\n",
    "logging.warning('test warning output')"
   ]
  },
  {
   "cell_type": "code",
   "execution_count": null,
   "metadata": {},
   "outputs": [],
   "source": [
    "DEBUG:root:logfile open\n",
    "INFO:root:test info output\n",
    "WARNING:root:test warning output"
   ]
  },
  {
   "cell_type": "code",
   "execution_count": 10,
   "metadata": {
    "tags": []
   },
   "outputs": [
    {
     "output_type": "stream",
     "name": "stderr",
     "text": "WARNING:root:test warning output : level = warning\n"
    }
   ],
   "source": [
    "import logging\n",
    "logging.basicConfig(filename='test.log', level=logging.WARNING)\n",
    "logging.debug('logfile open : level = warning')\n",
    "logging.info('test info output : level = warning')\n",
    "logging.warning('test warning output : level = warning')"
   ]
  },
  {
   "cell_type": "code",
   "execution_count": 6,
   "metadata": {
    "tags": []
   },
   "outputs": [
    {
     "output_type": "stream",
     "name": "stderr",
     "text": "WARNING:root:test warning format output\n"
    }
   ],
   "source": [
    "import logging\n",
    "\n",
    "logging.basicConfig(filename='test1.log', level=logging.WARNING, format='%(levelname)s:%(asctime)s:%(message)s')\n",
    "logging.warning('test warning format output')\n"
   ]
  },
  {
   "cell_type": "code",
   "execution_count": null,
   "metadata": {},
   "outputs": [],
   "source": [
    "import logging\n",
    "import myprocess\n",
    "def main():\n",
    "    logging.basicConfig(filename='test2.log', level=logging.INFO)\n",
    "    logging.info('main.py call myprocess1 function')\n",
    "    myprocess.myprocess1()\n",
    "    logging.info('main.py main function exit')\n",
    "\n",
    "if __name__ == '__main__':\n",
    "    main()"
   ]
  },
  {
   "cell_type": "code",
   "execution_count": 14,
   "metadata": {},
   "outputs": [],
   "source": [
    "import logging\n",
    "\n",
    "def process1():\n",
    "    logging.info('myprocess.py process1 start')"
   ]
  },
  {
   "cell_type": "code",
   "execution_count": 15,
   "metadata": {
    "tags": []
   },
   "outputs": [
    {
     "output_type": "stream",
     "name": "stderr",
     "text": "ERROR:root:test exception message :[1, 3, 6]\nTraceback (most recent call last):\n  File \"<ipython-input-15-f7694b8c3152>\", line 6, in <module>\n    raise Exception\nException\n"
    }
   ],
   "source": [
    "import logging\n",
    "\n",
    "logging.basicConfig(filename='test3.log', level=logging.WARNING)\n",
    "test_data = [1, 3, 6]\n",
    "try:\n",
    "    raise Exception\n",
    "except:\n",
    "    logging.exception('test exception message :%s', test_data)"
   ]
  },
  {
   "cell_type": "code",
   "execution_count": 16,
   "metadata": {
    "tags": []
   },
   "outputs": [
    {
     "output_type": "stream",
     "name": "stderr",
     "text": "WARNING:root:1\nERROR:root:2\n"
    }
   ],
   "source": [
    "import logging\n",
    "\n",
    "logging.basicConfig(filename='practice1.log', level=logging.WARNING)\n",
    "logging.warning('1')\n",
    "logging.error('2')\n",
    "logging.debug('3')\n",
    "logging.info('4')\n",
    "logging.shutdown()"
   ]
  },
  {
   "cell_type": "code",
   "execution_count": 17,
   "metadata": {},
   "outputs": [
    {
     "output_type": "error",
     "ename": "NameError",
     "evalue": "name 'logger' is not defined",
     "traceback": [
      "\u001b[1;31m---------------------------------------------------------------------------\u001b[0m",
      "\u001b[1;31mZeroDivisionError\u001b[0m                         Traceback (most recent call last)",
      "\u001b[1;32m<ipython-input-17-7835d8429f2b>\u001b[0m in \u001b[0;36m<module>\u001b[1;34m\u001b[0m\n\u001b[0;32m      8\u001b[0m \u001b[1;32mtry\u001b[0m\u001b[1;33m:\u001b[0m\u001b[1;33m\u001b[0m\u001b[1;33m\u001b[0m\u001b[0m\n\u001b[1;32m----> 9\u001b[1;33m     \u001b[0mret\u001b[0m \u001b[1;33m=\u001b[0m \u001b[0mdevide\u001b[0m\u001b[1;33m(\u001b[0m\u001b[1;36m10\u001b[0m\u001b[1;33m,\u001b[0m\u001b[1;36m0\u001b[0m\u001b[1;33m)\u001b[0m\u001b[1;33m\u001b[0m\u001b[1;33m\u001b[0m\u001b[0m\n\u001b[0m\u001b[0;32m     10\u001b[0m \u001b[1;32mexcept\u001b[0m\u001b[1;33m:\u001b[0m\u001b[1;33m\u001b[0m\u001b[1;33m\u001b[0m\u001b[0m\n",
      "\u001b[1;32m<ipython-input-17-7835d8429f2b>\u001b[0m in \u001b[0;36mdevide\u001b[1;34m(x1, x2)\u001b[0m\n\u001b[0;32m      3\u001b[0m \u001b[1;32mdef\u001b[0m \u001b[0mdevide\u001b[0m\u001b[1;33m(\u001b[0m\u001b[0mx1\u001b[0m\u001b[1;33m,\u001b[0m \u001b[0mx2\u001b[0m\u001b[1;33m)\u001b[0m\u001b[1;33m:\u001b[0m\u001b[1;33m\u001b[0m\u001b[1;33m\u001b[0m\u001b[0m\n\u001b[1;32m----> 4\u001b[1;33m     \u001b[1;32mreturn\u001b[0m \u001b[0mx1\u001b[0m \u001b[1;33m/\u001b[0m \u001b[0mx2\u001b[0m\u001b[1;33m\u001b[0m\u001b[1;33m\u001b[0m\u001b[0m\n\u001b[0m\u001b[0;32m      5\u001b[0m \u001b[1;33m\u001b[0m\u001b[0m\n",
      "\u001b[1;31mZeroDivisionError\u001b[0m: division by zero",
      "\nDuring handling of the above exception, another exception occurred:\n",
      "\u001b[1;31mNameError\u001b[0m                                 Traceback (most recent call last)",
      "\u001b[1;32m<ipython-input-17-7835d8429f2b>\u001b[0m in \u001b[0;36m<module>\u001b[1;34m\u001b[0m\n\u001b[0;32m      9\u001b[0m     \u001b[0mret\u001b[0m \u001b[1;33m=\u001b[0m \u001b[0mdevide\u001b[0m\u001b[1;33m(\u001b[0m\u001b[1;36m10\u001b[0m\u001b[1;33m,\u001b[0m\u001b[1;36m0\u001b[0m\u001b[1;33m)\u001b[0m\u001b[1;33m\u001b[0m\u001b[1;33m\u001b[0m\u001b[0m\n\u001b[0;32m     10\u001b[0m \u001b[1;32mexcept\u001b[0m\u001b[1;33m:\u001b[0m\u001b[1;33m\u001b[0m\u001b[1;33m\u001b[0m\u001b[0m\n\u001b[1;32m---> 11\u001b[1;33m     \u001b[0mlogger\u001b[0m\u001b[1;33m.\u001b[0m\u001b[0mexceprion\u001b[0m\u001b[1;33m(\u001b[0m\u001b[1;34m'test exception message'\u001b[0m\u001b[1;33m)\u001b[0m\u001b[1;33m\u001b[0m\u001b[1;33m\u001b[0m\u001b[0m\n\u001b[0m\u001b[0;32m     12\u001b[0m \u001b[0mlogging\u001b[0m\u001b[1;33m.\u001b[0m\u001b[0mshutdown\u001b[0m\u001b[1;33m(\u001b[0m\u001b[1;33m)\u001b[0m\u001b[1;33m\u001b[0m\u001b[1;33m\u001b[0m\u001b[0m\n",
      "\u001b[1;31mNameError\u001b[0m: name 'logger' is not defined"
     ]
    }
   ],
   "source": [
    "import logging\n",
    "\n",
    "def devide(x1, x2):\n",
    "    return x1 / x2\n",
    "\n",
    "logging.basicConfig(filename='testlog.log', level=logging.WARNING, format='%(levelname)s:%(asctime)s:%(message)s')\n",
    "\n",
    "try:\n",
    "    ret = devide(10,0)\n",
    "except:\n",
    "    logger.exceprion('test exception message')\n",
    "logging.shutdown()"
   ]
  },
  {
   "cell_type": "code",
   "execution_count": null,
   "metadata": {},
   "outputs": [],
   "source": []
  }
 ]
}